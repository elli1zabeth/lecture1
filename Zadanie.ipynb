{
  "nbformat": 4,
  "nbformat_minor": 0,
  "metadata": {
    "colab": {
      "provenance": [],
      "authorship_tag": "ABX9TyOqsx1p0hRd/WlmHJmEKZw+",
      "include_colab_link": true
    },
    "kernelspec": {
      "name": "python3",
      "display_name": "Python 3"
    },
    "language_info": {
      "name": "python"
    }
  },
  "cells": [
    {
      "cell_type": "markdown",
      "metadata": {
        "id": "view-in-github",
        "colab_type": "text"
      },
      "source": [
        "<a href=\"https://colab.research.google.com/github/elli1zabeth/lecture1/blob/main/Zadanie.ipynb\" target=\"_parent\"><img src=\"https://colab.research.google.com/assets/colab-badge.svg\" alt=\"Open In Colab\"/></a>"
      ]
    },
    {
      "cell_type": "code",
      "execution_count": 1,
      "metadata": {
        "id": "f4CRWK8Zvtqe"
      },
      "outputs": [],
      "source": [
        "import pandas as pd\n",
        "\n",
        "movies = pd.read_csv('movies.csv', sep=',')\n",
        "ratings = pd.read_csv('ratings.csv', sep=',')"
      ]
    },
    {
      "cell_type": "code",
      "source": [
        "!pip uninstall numpy -y"
      ],
      "metadata": {
        "colab": {
          "base_uri": "https://localhost:8080/"
        },
        "id": "dJ184rUEwEca",
        "outputId": "8921e56e-408b-4605-86f8-41693912cb36"
      },
      "execution_count": 2,
      "outputs": [
        {
          "output_type": "stream",
          "name": "stdout",
          "text": [
            "Found existing installation: numpy 1.23.5\n",
            "Uninstalling numpy-1.23.5:\n",
            "  Successfully uninstalled numpy-1.23.5\n"
          ]
        }
      ]
    },
    {
      "cell_type": "code",
      "source": [
        "!pip install numpy==1.23.5"
      ],
      "metadata": {
        "colab": {
          "base_uri": "https://localhost:8080/"
        },
        "id": "f5VfmwXfwQJK",
        "outputId": "b2dc2ed2-8c32-434b-edb5-4c8295f9d81d"
      },
      "execution_count": 2,
      "outputs": [
        {
          "output_type": "stream",
          "name": "stdout",
          "text": [
            "Requirement already satisfied: numpy==1.23.5 in /usr/local/lib/python3.11/dist-packages (1.23.5)\n"
          ]
        }
      ]
    },
    {
      "cell_type": "code",
      "source": [
        "!pip uninstall surprise -y"
      ],
      "metadata": {
        "colab": {
          "base_uri": "https://localhost:8080/"
        },
        "id": "GWm6TyUKwVQy",
        "outputId": "dd156b6b-da54-4a9c-9f9e-75e19215a3c5"
      },
      "execution_count": 3,
      "outputs": [
        {
          "output_type": "stream",
          "name": "stdout",
          "text": [
            "\u001b[33mWARNING: Skipping surprise as it is not installed.\u001b[0m\u001b[33m\n",
            "\u001b[0m"
          ]
        }
      ]
    },
    {
      "cell_type": "code",
      "source": [
        "!pip install surprise\n",
        "\n",
        "# importing relevant libraries\n",
        "from surprise.model_selection import cross_validate, GridSearchCV\n",
        "from surprise.prediction_algorithms import SVD, KNNBasic, KNNBaseline\n",
        "from surprise import Dataset\n",
        "from surprise import Reader"
      ],
      "metadata": {
        "colab": {
          "base_uri": "https://localhost:8080/"
        },
        "id": "gLQpS88gwhis",
        "outputId": "fd0f8c62-db12-4de0-8ac6-eb8dd90d6ae6"
      },
      "execution_count": 4,
      "outputs": [
        {
          "output_type": "stream",
          "name": "stdout",
          "text": [
            "Collecting surprise\n",
            "  Downloading surprise-0.1-py2.py3-none-any.whl.metadata (327 bytes)\n",
            "Collecting scikit-surprise (from surprise)\n",
            "  Downloading scikit_surprise-1.1.4.tar.gz (154 kB)\n",
            "\u001b[?25l     \u001b[90m━━━━━━━━━━━━━━━━━━━━━━━━━━━━━━━━━━━━━━━━\u001b[0m \u001b[32m0.0/154.4 kB\u001b[0m \u001b[31m?\u001b[0m eta \u001b[36m-:--:--\u001b[0m\r\u001b[2K     \u001b[91m━━━━━━━━━━━━━━━━━━━━━━━━━━━━\u001b[0m\u001b[90m╺\u001b[0m\u001b[90m━━━━━━━━━━\u001b[0m \u001b[32m112.6/154.4 kB\u001b[0m \u001b[31m3.2 MB/s\u001b[0m eta \u001b[36m0:00:01\u001b[0m\r\u001b[2K     \u001b[90m━━━━━━━━━━━━━━━━━━━━━━━━━━━━━━━━━━━━━━━\u001b[0m \u001b[32m154.4/154.4 kB\u001b[0m \u001b[31m3.1 MB/s\u001b[0m eta \u001b[36m0:00:00\u001b[0m\n",
            "\u001b[?25h  Installing build dependencies ... \u001b[?25l\u001b[?25hdone\n",
            "  Getting requirements to build wheel ... \u001b[?25l\u001b[?25hdone\n",
            "  Preparing metadata (pyproject.toml) ... \u001b[?25l\u001b[?25hdone\n",
            "Requirement already satisfied: joblib>=1.2.0 in /usr/local/lib/python3.11/dist-packages (from scikit-surprise->surprise) (1.5.0)\n",
            "Requirement already satisfied: numpy>=1.19.5 in /usr/local/lib/python3.11/dist-packages (from scikit-surprise->surprise) (1.23.5)\n",
            "Requirement already satisfied: scipy>=1.6.0 in /usr/local/lib/python3.11/dist-packages (from scikit-surprise->surprise) (1.15.3)\n",
            "Downloading surprise-0.1-py2.py3-none-any.whl (1.8 kB)\n",
            "Building wheels for collected packages: scikit-surprise\n",
            "  Building wheel for scikit-surprise (pyproject.toml) ... \u001b[?25l\u001b[?25hdone\n",
            "  Created wheel for scikit-surprise: filename=scikit_surprise-1.1.4-cp311-cp311-linux_x86_64.whl size=2461548 sha256=2647d6ad71db08185a3a7f68ca96a7df12e10ccc5bedc1470eccde938c83f3ca\n",
            "  Stored in directory: /root/.cache/pip/wheels/2a/8f/6e/7e2899163e2d85d8266daab4aa1cdabec7a6c56f83c015b5af\n",
            "Successfully built scikit-surprise\n",
            "Installing collected packages: scikit-surprise, surprise\n",
            "Successfully installed scikit-surprise-1.1.4 surprise-0.1\n"
          ]
        }
      ]
    },
    {
      "cell_type": "markdown",
      "source": [
        "### Rekomendacje dla użytkownika o id=600, top 10"
      ],
      "metadata": {
        "id": "ZNQX_00ZwtXc"
      }
    },
    {
      "cell_type": "code",
      "source": [
        "from collections import Counter\n",
        "\n",
        "# Pobranie ocen użytkownika 600\n",
        "user_id = 600\n",
        "user_ratings = ratings[ratings['userId'] == user_id]"
      ],
      "metadata": {
        "id": "Q8iv2rwE1TjI"
      },
      "execution_count": 6,
      "outputs": []
    },
    {
      "cell_type": "code",
      "source": [
        "# Połączenie ocen z informacjami o filmach\n",
        "user_movies = user_ratings.merge(movies, on='movieId')\n",
        "\n",
        "# Wyodrębnienie najczęściej ocenianych gatunków przez użytkownika\n",
        "all_genres = user_movies['genres'].str.split('|').sum()\n",
        "top_genres = [genre for genre, _ in Counter(all_genres).most_common(5)]\n",
        "top_genres_set = set(top_genres)"
      ],
      "metadata": {
        "id": "kjv6ekH01WfL"
      },
      "execution_count": 7,
      "outputs": []
    },
    {
      "cell_type": "code",
      "source": [
        "# Filtrowanie filmów, które pasują do ulubionych gatunków\n",
        "def has_common_genre(genre_str):\n",
        "    return not top_genres_set.isdisjoint(set(genre_str.split('|')))\n",
        "\n",
        "genre_matched_movies = movies[movies['genres'].apply(has_common_genre)]"
      ],
      "metadata": {
        "id": "P8Fdsh5R1gzB"
      },
      "execution_count": 8,
      "outputs": []
    },
    {
      "cell_type": "code",
      "source": [
        "# Usunięcie filmów już ocenionych przez użytkownika\n",
        "unseen_movies = genre_matched_movies[~genre_matched_movies['movieId'].isin(user_ratings['movieId'])]\n",
        "\n",
        "# Dołączenie ocen i obliczenie średniej + liczby ocen\n",
        "ratings_for_unseen = ratings[ratings['movieId'].isin(unseen_movies['movieId'])]\n",
        "aggregated = ratings_for_unseen.groupby('movieId').agg(\n",
        "    średnia_ocen=('rating', 'mean'),\n",
        "    rating_count=('rating', 'count')\n",
        ").reset_index()\n",
        "\n",
        "# Tylko popularne filmy (min. 50 ocen)\n",
        "popular = aggregated[aggregated['rating_count'] >= 50]\n",
        "\n",
        "recommendations = popular.merge(movies, on='movieId')"
      ],
      "metadata": {
        "id": "MPYti8eH1laT"
      },
      "execution_count": 9,
      "outputs": []
    },
    {
      "cell_type": "code",
      "source": [
        "# Sortowanie i wybór TOP 10\n",
        "top_10 = recommendations.sort_values(by='średnia_ocen', ascending=False).head(10).reset_index(drop=True)\n",
        "top_10.insert(0, 'Top 10', range(1, 11))\n",
        "top_10_final = top_10[['Top 10', 'movieId', 'title', 'genres', 'średnia_ocen']]\n",
        "\n",
        "print(f'Top 10 rekomendacji dla użytkownika o ID = {user_id}:\\n')\n",
        "print(top_10_final.to_string(index=False))"
      ],
      "metadata": {
        "colab": {
          "base_uri": "https://localhost:8080/"
        },
        "id": "bjon29eUzgo9",
        "outputId": "fdc7882c-5813-4e36-db07-5018c83ab635"
      },
      "execution_count": 10,
      "outputs": [
        {
          "output_type": "stream",
          "name": "stdout",
          "text": [
            "Top 10 rekomendacji dla użytkownika o ID = 600:\n",
            "\n",
            " Top 10  movieId                                  title                           genres  średnia_ocen\n",
            "      1     1276                  Cool Hand Luke (1967)                            Drama      4.271930\n",
            "      2      904                     Rear Window (1954)                 Mystery|Thriller      4.261905\n",
            "      3     1221         Godfather: Part II, The (1974)                      Crime|Drama      4.259690\n",
            "      4    48516                   Departed, The (2006)             Crime|Drama|Thriller      4.252336\n",
            "      5       50             Usual Suspects, The (1995)           Crime|Mystery|Thriller      4.237745\n",
            "      6     1208                  Apocalypse Now (1979)                 Action|Drama|War      4.219626\n",
            "      7     1252                       Chinatown (1974) Crime|Film-Noir|Mystery|Thriller      4.211864\n",
            "      8     1193 One Flew Over the Cuckoo's Nest (1975)                            Drama      4.203008\n",
            "      9     1089                  Reservoir Dogs (1992)           Crime|Mystery|Thriller      4.202290\n",
            "     10     1225                         Amadeus (1984)                            Drama      4.184211\n"
          ]
        }
      ]
    },
    {
      "cell_type": "markdown",
      "source": [
        "###Znajdz 10 rekomendacji po obejrzaniu filmu: \"Toy Story\""
      ],
      "metadata": {
        "id": "kaIoJSX_yuRR"
      }
    },
    {
      "cell_type": "code",
      "source": [
        "# Zdefiniowanie docelowych gatunków\n",
        "target_genres = {'Animation', 'Children'}\n",
        "\n",
        "# Filtrowanie filmów zawierających przynajmniej jeden z docelowych gatunków\n",
        "def has_target_genres(genre_string):\n",
        "    genres = set(genre_string.split('|'))\n",
        "    return not target_genres.isdisjoint(genres)\n",
        "\n",
        "filtered_movies = movies[movies['genres'].apply(has_target_genres)]"
      ],
      "metadata": {
        "id": "viXYmKRIyZiu"
      },
      "execution_count": 3,
      "outputs": []
    },
    {
      "cell_type": "code",
      "source": [
        "genre_ratings = ratings.merge(filtered_movies, on='movieId')\n",
        "\n",
        "avg_ratings = genre_ratings.groupby('movieId').agg(\n",
        "    średnia_ocen=('rating', 'mean')\n",
        ").reset_index()\n",
        "\n",
        "# Dołączenie tytułów i gatunków\n",
        "movie_info = filtered_movies[['movieId', 'title', 'genres']].drop_duplicates()\n",
        "merged = avg_ratings.merge(movie_info, on='movieId')"
      ],
      "metadata": {
        "id": "0ImwH6jizDVL"
      },
      "execution_count": 4,
      "outputs": []
    },
    {
      "cell_type": "code",
      "source": [
        "# Filtrowanie filmów z co najmniej 50 ocenami\n",
        "rating_counts = genre_ratings.groupby('movieId').size().reset_index(name='rating_count')\n",
        "merged = merged.merge(rating_counts, on='movieId')\n",
        "popular = merged[merged['rating_count'] >= 50]\n",
        "\n",
        "top_10 = popular.sort_values(by='średnia_ocen', ascending=False).head(10).reset_index(drop=True)\n",
        "\n",
        "top_10.insert(0, 'Top 10', range(1, 11))\n",
        "\n",
        "top_10_final = top_10[['Top 10', 'movieId', 'title', 'genres', 'średnia_ocen']]\n",
        "\n",
        "print('Top 10 rekomendacji po obejrzeniu \"Toy Story\":\\n')\n",
        "print(top_10_final.to_string(index=False))"
      ],
      "metadata": {
        "colab": {
          "base_uri": "https://localhost:8080/"
        },
        "id": "qjKyJGKFzLid",
        "outputId": "b994f519-12e0-420c-9aa9-6ea16e3a9561"
      },
      "execution_count": 5,
      "outputs": [
        {
          "output_type": "stream",
          "name": "stdout",
          "text": [
            "Top 10 rekomendacji po obejrzeniu \"Toy Story\":\n",
            "\n",
            " Top 10  movieId                                                title                                           genres  średnia_ocen\n",
            "      1     5618 Spirited Away (Sen to Chihiro no kamikakushi) (2001)                      Adventure|Animation|Fantasy      4.155172\n",
            "      2    78499                                   Toy Story 3 (2010) Adventure|Animation|Children|Comedy|Fantasy|IMAX      4.109091\n",
            "      3    60069                                        WALL·E (2008)      Adventure|Animation|Children|Romance|Sci-Fi      4.057692\n",
            "      4     1148          Wallace & Gromit: The Wrong Trousers (1993)                  Animation|Children|Comedy|Crime      4.035714\n",
            "      5      953                         It's a Wonderful Life (1946)                   Children|Drama|Fantasy|Romance      4.034483\n",
            "      6    68954                                            Up (2009)               Adventure|Animation|Children|Drama      4.004762\n",
            "      7     2804                            Christmas Story, A (1983)                                  Children|Comedy      3.972727\n",
            "      8     6377                                  Finding Nemo (2003)              Adventure|Animation|Children|Comedy      3.960993\n",
            "      9    76093                      How to Train Your Dragon (2010)        Adventure|Animation|Children|Fantasy|IMAX      3.943396\n",
            "     10      364                                Lion King, The (1994)  Adventure|Animation|Children|Drama|Musical|IMAX      3.941860\n"
          ]
        }
      ]
    }
  ]
}